{
 "cells": [
  {
   "cell_type": "code",
   "execution_count": 2,
   "metadata": {},
   "outputs": [
    {
     "name": "stdout",
     "output_type": "stream",
     "text": [
      "Hello!\n"
     ]
    }
   ],
   "source": [
    "print(\"Hello!\")"
   ]
  },
  {
   "cell_type": "code",
   "execution_count": 3,
   "metadata": {},
   "outputs": [
    {
     "name": "stdout",
     "output_type": "stream",
     "text": [
      "Hello World!"
     ]
    }
   ],
   "source": [
    "print(\"Hello World!\", end=\"\")"
   ]
  },
  {
   "cell_type": "code",
   "execution_count": 4,
   "metadata": {},
   "outputs": [
    {
     "name": "stdout",
     "output_type": "stream",
     "text": [
      "Hello\n",
      "Hello!\n"
     ]
    }
   ],
   "source": [
    "print(\"Hello\") ; print(\"Hello!\")"
   ]
  },
  {
   "cell_type": "code",
   "execution_count": 6,
   "metadata": {},
   "outputs": [
    {
     "name": "stdout",
     "output_type": "stream",
     "text": [
      "Everything is okay! Of course!\n"
     ]
    }
   ],
   "source": [
    "print(\"Everything is okay!\", end=\"\"); print(\" Of course!\")"
   ]
  },
  {
   "cell_type": "code",
   "execution_count": 7,
   "metadata": {},
   "outputs": [
    {
     "name": "stdout",
     "output_type": "stream",
     "text": [
      "Hello!---Hi!\n"
     ]
    }
   ],
   "source": [
    "print(\"Hello!\", end=\"---\"); print (\"Hi!\")"
   ]
  },
  {
   "cell_type": "code",
   "execution_count": 11,
   "metadata": {},
   "outputs": [
    {
     "name": "stdout",
     "output_type": "stream",
     "text": [
      "Hello!Hello!\n",
      "Hello!\n"
     ]
    }
   ],
   "source": [
    "print(\"Hello!\", end=\"\"); print (\"Hello!\"); print(\"Hello!\")"
   ]
  },
  {
   "cell_type": "code",
   "execution_count": 12,
   "metadata": {
    "scrolled": true
   },
   "outputs": [
    {
     "name": "stdout",
     "output_type": "stream",
     "text": [
      "Hello!\n",
      "Hello!\n",
      "Hello!\n"
     ]
    }
   ],
   "source": [
    "print(\"Hello!\"); print(\"Hello!\"); print(\"Hello!\")"
   ]
  },
  {
   "cell_type": "code",
   "execution_count": 13,
   "metadata": {},
   "outputs": [
    {
     "name": "stdout",
     "output_type": "stream",
     "text": [
      "Привет, Мир!"
     ]
    }
   ],
   "source": [
    "print(\"Привет, Мир!\", end=\"\")"
   ]
  },
  {
   "cell_type": "code",
   "execution_count": 14,
   "metadata": {},
   "outputs": [
    {
     "data": {
      "text/plain": [
       "2"
      ]
     },
     "execution_count": 14,
     "metadata": {},
     "output_type": "execute_result"
    }
   ],
   "source": [
    "max(1,2)"
   ]
  },
  {
   "cell_type": "code",
   "execution_count": 15,
   "metadata": {},
   "outputs": [
    {
     "data": {
      "text/plain": [
       "9"
      ]
     },
     "execution_count": 15,
     "metadata": {},
     "output_type": "execute_result"
    }
   ],
   "source": [
    "max(1,-2,-3,4,5,-7,9,0)"
   ]
  },
  {
   "cell_type": "code",
   "execution_count": 16,
   "metadata": {},
   "outputs": [
    {
     "data": {
      "text/plain": [
       "7"
      ]
     },
     "execution_count": 16,
     "metadata": {},
     "output_type": "execute_result"
    }
   ],
   "source": [
    "max(1 , 2, 3, 4, 5, 6, 7)"
   ]
  },
  {
   "cell_type": "code",
   "execution_count": 17,
   "metadata": {},
   "outputs": [
    {
     "name": "stdout",
     "output_type": "stream",
     "text": [
      "Hi! 45 -10\n"
     ]
    }
   ],
   "source": [
    "print(\"Hi!\", 45, -10)"
   ]
  },
  {
   "cell_type": "code",
   "execution_count": 18,
   "metadata": {},
   "outputs": [
    {
     "name": "stdout",
     "output_type": "stream",
     "text": [
      "Hey!45-10\n"
     ]
    }
   ],
   "source": [
    "print(\"Hey!\", 45, -10, sep=\"\")"
   ]
  },
  {
   "cell_type": "code",
   "execution_count": 19,
   "metadata": {},
   "outputs": [
    {
     "name": "stdout",
     "output_type": "stream",
     "text": [
      "How are you? 35\n"
     ]
    }
   ],
   "source": [
    "print(\"How are you?\", 45-10)"
   ]
  },
  {
   "cell_type": "code",
   "execution_count": 20,
   "metadata": {},
   "outputs": [
    {
     "name": "stdout",
     "output_type": "stream",
     "text": [
      "How are you? 45-10\n"
     ]
    }
   ],
   "source": [
    "print(\"How are you?\", \"45-10\")"
   ]
  },
  {
   "cell_type": "code",
   "execution_count": 21,
   "metadata": {
    "scrolled": true
   },
   "outputs": [
    {
     "name": "stdout",
     "output_type": "stream",
     "text": [
      "Hi-*-45-*-10\n"
     ]
    }
   ],
   "source": [
    "print(\"Hi\", 45, 10, sep=\"-*-\")"
   ]
  },
  {
   "cell_type": "code",
   "execution_count": 22,
   "metadata": {},
   "outputs": [
    {
     "data": {
      "text/plain": [
       "9"
      ]
     },
     "execution_count": 22,
     "metadata": {},
     "output_type": "execute_result"
    }
   ],
   "source": [
    "Test_10=max(1,2,3,4,5,6,7,8,9,0); Test_10"
   ]
  },
  {
   "cell_type": "code",
   "execution_count": 24,
   "metadata": {},
   "outputs": [
    {
     "name": "stdout",
     "output_type": "stream",
     "text": [
      "Максимум ряда переменных = 9\n"
     ]
    }
   ],
   "source": [
    "Test_10=max(1,2,3,4,5,6,7,8,9,0); print(\"Максимум ряда переменных\", Test_10, sep=\" = \")"
   ]
  },
  {
   "cell_type": "code",
   "execution_count": 25,
   "metadata": {},
   "outputs": [
    {
     "name": "stdout",
     "output_type": "stream",
     "text": [
      "Максимум ряда переменных = 9\n"
     ]
    }
   ],
   "source": [
    "Test_10=max(1,2,3,4,5,6,7,8,9,0); print(\"Максимум ряда переменных =\", Test_10)"
   ]
  },
  {
   "cell_type": "code",
   "execution_count": 30,
   "metadata": {},
   "outputs": [],
   "source": [
    "x=300; y=\"Жираф\"; z=\"кг.\""
   ]
  },
  {
   "cell_type": "code",
   "execution_count": 31,
   "metadata": {},
   "outputs": [
    {
     "data": {
      "text/plain": [
       "(300, 'Жираф', 'кг.')"
      ]
     },
     "execution_count": 31,
     "metadata": {},
     "output_type": "execute_result"
    }
   ],
   "source": [
    "x, y, z"
   ]
  },
  {
   "cell_type": "code",
   "execution_count": 32,
   "metadata": {},
   "outputs": [
    {
     "name": "stdout",
     "output_type": "stream",
     "text": [
      "Жираф 300 кг.\n"
     ]
    }
   ],
   "source": [
    "print(y,x,z)"
   ]
  },
  {
   "cell_type": "code",
   "execution_count": 34,
   "metadata": {
    "scrolled": true
   },
   "outputs": [
    {
     "name": "stdout",
     "output_type": "stream",
     "text": [
      "Жираф весит 300 кг.\n"
     ]
    }
   ],
   "source": [
    "print(\"{} весит {} кг.\" .format(y,x))"
   ]
  },
  {
   "cell_type": "code",
   "execution_count": 36,
   "metadata": {},
   "outputs": [
    {
     "name": "stdout",
     "output_type": "stream",
     "text": [
      "Жираф весит 300 кг.\n"
     ]
    }
   ],
   "source": [
    "print(\"{} весит {} {}\" .format(y,x,z))"
   ]
  },
  {
   "cell_type": "code",
   "execution_count": 38,
   "metadata": {},
   "outputs": [
    {
     "name": "stdout",
     "output_type": "stream",
     "text": [
      "Жираф весит 300 кг.---999---Hello\n"
     ]
    }
   ],
   "source": [
    "print(\"{} весит {} {}\" .format(y,x,z), 999, \"Hello\", sep=\"---\")"
   ]
  },
  {
   "cell_type": "code",
   "execution_count": 39,
   "metadata": {},
   "outputs": [
    {
     "data": {
      "text/plain": [
       "1000"
      ]
     },
     "execution_count": 39,
     "metadata": {},
     "output_type": "execute_result"
    }
   ],
   "source": [
    "10; 1000"
   ]
  },
  {
   "cell_type": "code",
   "execution_count": 40,
   "metadata": {},
   "outputs": [
    {
     "name": "stdout",
     "output_type": "stream",
     "text": [
      "10 1000\n"
     ]
    }
   ],
   "source": [
    "print(10,1000)"
   ]
  },
  {
   "cell_type": "code",
   "execution_count": 41,
   "metadata": {},
   "outputs": [],
   "source": [
    "x=10; y=1000"
   ]
  },
  {
   "cell_type": "code",
   "execution_count": 42,
   "metadata": {},
   "outputs": [
    {
     "name": "stdout",
     "output_type": "stream",
     "text": [
      "10\n",
      "1000\n"
     ]
    }
   ],
   "source": [
    "print (x); print (y)"
   ]
  },
  {
   "cell_type": "code",
   "execution_count": 44,
   "metadata": {},
   "outputs": [
    {
     "name": "stdout",
     "output_type": "stream",
     "text": [
      "10*****1000\n"
     ]
    }
   ],
   "source": [
    "x=10; y=1000; print(x, end=\"*****\"); print(y)"
   ]
  },
  {
   "cell_type": "code",
   "execution_count": 53,
   "metadata": {},
   "outputs": [
    {
     "name": "stdout",
     "output_type": "stream",
     "text": [
      "10\n",
      "1000\n"
     ]
    }
   ],
   "source": [
    "x=10; y=1000; print(x); print(y); x_1=\"Помидор\"; x_2=\"Beaujole nouveau\""
   ]
  },
  {
   "cell_type": "code",
   "execution_count": 46,
   "metadata": {},
   "outputs": [
    {
     "name": "stdout",
     "output_type": "stream",
     "text": [
      "         10\n",
      "       1000\n"
     ]
    }
   ],
   "source": [
    "print(\"{:>11d}\" .format(x)); print(\"{:>11d}\" .format(y))"
   ]
  },
  {
   "cell_type": "code",
   "execution_count": 50,
   "metadata": {},
   "outputs": [
    {
     "name": "stdout",
     "output_type": "stream",
     "text": [
      "                                                                                                                            10\n",
      "                                                                                                                          1000\n"
     ]
    }
   ],
   "source": [
    "print(\"{:>126d}\" .format(x)); print(\"{:>126d}\" .format(y))"
   ]
  },
  {
   "cell_type": "code",
   "execution_count": 47,
   "metadata": {},
   "outputs": [
    {
     "name": "stdout",
     "output_type": "stream",
     "text": [
      "                                                                                                             10\n",
      "                                                                                                           1000\n"
     ]
    }
   ],
   "source": [
    "print(\"{:>111d}\" .format(x)); print(\"{:>111d}\" .format(y))"
   ]
  },
  {
   "cell_type": "code",
   "execution_count": 54,
   "metadata": {
    "scrolled": false
   },
   "outputs": [
    {
     "name": "stdout",
     "output_type": "stream",
     "text": [
      "Помидор                      10\n",
      "Beaujole nouveau           1000\n"
     ]
    }
   ],
   "source": [
    "print(\"{:<20} {:>10d}\" .format(x_1,x)); print(\"{:<20} {:>10d}\" .format(x_2,y))"
   ]
  },
  {
   "cell_type": "code",
   "execution_count": 56,
   "metadata": {
    "scrolled": true
   },
   "outputs": [
    {
     "name": "stdout",
     "output_type": "stream",
     "text": [
      "Помидор                      10\n",
      "Beaujole nouveau           1000\n"
     ]
    }
   ],
   "source": [
    "print(\"{:<20s} {:>10d}\" .format(x_1,x)); print(\"{:<20s} {:>10d}\" .format(x_2,y))"
   ]
  },
  {
   "cell_type": "code",
   "execution_count": 58,
   "metadata": {},
   "outputs": [
    {
     "name": "stdout",
     "output_type": "stream",
     "text": [
      "Помидор                      10\n",
      "Beaujole nouveau           1000\n"
     ]
    }
   ],
   "source": [
    "print(\"{:<20} {:>10}\" .format(x_1,x)); print(\"{:<20} {:>10}\" .format(x_2,y))"
   ]
  },
  {
   "cell_type": "code",
   "execution_count": 57,
   "metadata": {
    "scrolled": false
   },
   "outputs": [
    {
     "name": "stdout",
     "output_type": "stream",
     "text": [
      "Помидор         10\n",
      "Beaujole nouveau       1000\n"
     ]
    }
   ],
   "source": [
    "print(\"{} {:>10d}\" .format(x_1,x)); print(\"{} {:>10d}\" .format(x_2,y))"
   ]
  },
  {
   "cell_type": "code",
   "execution_count": 59,
   "metadata": {
    "scrolled": true
   },
   "outputs": [
    {
     "name": "stdout",
     "output_type": "stream",
     "text": [
      "Помидор            10\n",
      "Beaujole nouveau       1000\n"
     ]
    }
   ],
   "source": [
    "print(\"{:<10s} {:>10d}\" .format(x_1,x)); print(\"{:<10s} {:>10d}\" .format(x_2,y))"
   ]
  },
  {
   "cell_type": "code",
   "execution_count": 60,
   "metadata": {},
   "outputs": [
    {
     "name": "stdout",
     "output_type": "stream",
     "text": [
      "      Помидор                10\n",
      "  Beaujole nouveau         1000\n"
     ]
    }
   ],
   "source": [
    "print(\"{:^20s} {:>10d}\" .format(x_1,x)); print(\"{:^20s} {:>10d}\" .format(x_2,y))"
   ]
  },
  {
   "cell_type": "code",
   "execution_count": 61,
   "metadata": {},
   "outputs": [
    {
     "name": "stdout",
     "output_type": "stream",
     "text": [
      "      Помидор            10    \n",
      "  Beaujole nouveau      1000   \n"
     ]
    }
   ],
   "source": [
    "print(\"{:^20} {:^10}\" .format(x_1,x)); print(\"{:^20} {:^10}\" .format(x_2,y))"
   ]
  },
  {
   "cell_type": "code",
   "execution_count": 63,
   "metadata": {
    "scrolled": true
   },
   "outputs": [
    {
     "name": "stdout",
     "output_type": "stream",
     "text": [
      "Помидор************* ********10\n",
      "Beaujole nouveau**** ******1000\n"
     ]
    }
   ],
   "source": [
    "print(\"{:*<20} {:*>10d}\" .format(x_1,x)); print(\"{:*<20} {:*>10d}\" .format(x_2,y))"
   ]
  },
  {
   "cell_type": "code",
   "execution_count": 64,
   "metadata": {},
   "outputs": [
    {
     "name": "stdout",
     "output_type": "stream",
     "text": [
      "Помидор*********************10\n",
      "Beaujole nouveau**********1000\n"
     ]
    }
   ],
   "source": [
    "print(\"{:*<20}{:*>10d}\" .format(x_1,x)); print(\"{:*<20}{:*>10d}\" .format(x_2,y))"
   ]
  },
  {
   "cell_type": "code",
   "execution_count": 66,
   "metadata": {},
   "outputs": [
    {
     "name": "stdout",
     "output_type": "stream",
     "text": [
      "Помидор.....................10\n",
      "Beaujole nouveau..........1000\n"
     ]
    }
   ],
   "source": [
    "print(\"{:.<20}{:.>10d}\" .format(x_1,x)); print(\"{:.<20}{:.>10d}\" .format(x_2,y))"
   ]
  },
  {
   "cell_type": "code",
   "execution_count": 67,
   "metadata": {},
   "outputs": [
    {
     "name": "stdout",
     "output_type": "stream",
     "text": [
      "Помидор.....................................................................................................10\n",
      "Beaujole nouveau..........................................................................................1000\n"
     ]
    }
   ],
   "source": [
    "print(\"{:.<100}{:.>10d}\" .format(x_1,x)); print(\"{:.<100}{:.>10d}\" .format(x_2,y))"
   ]
  }
 ],
 "metadata": {
  "kernelspec": {
   "display_name": "Python 3",
   "language": "python",
   "name": "python3"
  },
  "language_info": {
   "codemirror_mode": {
    "name": "ipython",
    "version": 3
   },
   "file_extension": ".py",
   "mimetype": "text/x-python",
   "name": "python",
   "nbconvert_exporter": "python",
   "pygments_lexer": "ipython3",
   "version": "3.6.11"
  }
 },
 "nbformat": 4,
 "nbformat_minor": 4
}
{
 "cells": [
  {
   "cell_type": "code",
   "execution_count": 1,
   "metadata": {
    "scrolled": true
   },
   "outputs": [
    {
     "name": "stdout",
     "output_type": "stream",
     "text": [
      "Hello\n",
      "Hi\n",
      "Hello\n"
     ]
    }
   ],
   "source": [
    "print(\"Hello\"); print(\"Hi\", end=\"\\n\"); print(\"Hello\")"
   ]
  },
  {
   "cell_type": "code",
   "execution_count": 3,
   "metadata": {
    "scrolled": true
   },
   "outputs": [
    {
     "name": "stdout",
     "output_type": "stream",
     "text": [
      "Hello\n",
      "Hi\n",
      "Hello\n"
     ]
    }
   ],
   "source": [
    "print(\"Hello\", \"Hi\", \"Hello\", sep=\"\\n\")"
   ]
  },
  {
   "cell_type": "code",
   "execution_count": 7,
   "metadata": {},
   "outputs": [],
   "source": [
    "x=10; y=15; x_1=\"Помидор\"; x_2=\"Огурец\""
   ]
  },
  {
   "cell_type": "code",
   "execution_count": 8,
   "metadata": {},
   "outputs": [
    {
     "name": "stdout",
     "output_type": "stream",
     "text": [
      "Помидор.....................................................................................................10\n",
      "Огурец......................................................................................................15\n"
     ]
    }
   ],
   "source": [
    "print(\"{:.<100}{:.>10d}\" .format(x_1,x)); print(\"{:.<100}{:.>10d}\" .format(x_2,y))"
   ]
  },
  {
   "cell_type": "code",
   "execution_count": 10,
   "metadata": {
    "scrolled": true
   },
   "outputs": [
    {
     "ename": "SyntaxError",
     "evalue": "invalid syntax (<ipython-input-10-2cc09329abcd>, line 1)",
     "output_type": "error",
     "traceback": [
      "\u001b[0;36m  File \u001b[0;32m\"<ipython-input-10-2cc09329abcd>\"\u001b[0;36m, line \u001b[0;32m1\u001b[0m\n\u001b[0;31m    print(\"{:.<100}{:.>10d}\" .format(x_1,x)), \"{:.<100}{:.>10d}\" .format(x_2,y), sep=\"\\n\")\u001b[0m\n\u001b[0m                                                                                         ^\u001b[0m\n\u001b[0;31mSyntaxError\u001b[0m\u001b[0;31m:\u001b[0m invalid syntax\n"
     ]
    }
   ],
   "source": [
    "print(\"{:.<100}{:.>10d}\" .format(x_1,x)), \"{:.<100}{:.>10d}\" .format(x_2,y), sep=\"\\n\")"
   ]
  },
  {
   "cell_type": "code",
   "execution_count": 11,
   "metadata": {},
   "outputs": [],
   "source": [
    "x=10.999; y=15.999"
   ]
  },
  {
   "cell_type": "code",
   "execution_count": 13,
   "metadata": {
    "scrolled": true
   },
   "outputs": [
    {
     "name": "stdout",
     "output_type": "stream",
     "text": [
      "Помидор.................................................................................................10.999\n",
      "Огурец..................................................................................................15.999\n"
     ]
    }
   ],
   "source": [
    "print(\"{:.<100}{:.>10.3f}\" .format(x_1,x)); print(\"{:.<100}{:.>10.3f}\" .format(x_2,y))"
   ]
  },
  {
   "cell_type": "code",
   "execution_count": 14,
   "metadata": {},
   "outputs": [
    {
     "name": "stdout",
     "output_type": "stream",
     "text": [
      "Помидор..................................................................................................11.00\n",
      "Огурец...................................................................................................16.00\n"
     ]
    }
   ],
   "source": [
    "print(\"{:.<100}{:.>10.2f}\" .format(x_1,x)); print(\"{:.<100}{:.>10.2f}\" .format(x_2,y))"
   ]
  },
  {
   "cell_type": "code",
   "execution_count": 15,
   "metadata": {},
   "outputs": [
    {
     "name": "stdout",
     "output_type": "stream",
     "text": [
      "Помидор...............................................................................................10.99900\n",
      "Огурец................................................................................................15.99900\n"
     ]
    }
   ],
   "source": [
    "print(\"{:.<100}{:.>10.5f}\" .format(x_1,x)); print(\"{:.<100}{:.>10.5f}\" .format(x_2,y))"
   ]
  }
 ],
 "metadata": {
  "kernelspec": {
   "display_name": "Python 3",
   "language": "python",
   "name": "python3"
  },
  "language_info": {
   "codemirror_mode": {
    "name": "ipython",
    "version": 3
   },
   "file_extension": ".py",
   "mimetype": "text/x-python",
   "name": "python",
   "nbconvert_exporter": "python",
   "pygments_lexer": "ipython3",
   "version": "3.6.11"
  }
 },
 "nbformat": 4,
 "nbformat_minor": 4
}

