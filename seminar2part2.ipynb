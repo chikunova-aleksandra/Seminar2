{
 "cells": [
  {
   "cell_type": "code",
   "execution_count": 1,
   "metadata": {
    "scrolled": true
   },
   "outputs": [
    {
     "name": "stdout",
     "output_type": "stream",
     "text": [
      "Hello\n",
      "Hi\n",
      "Hello\n"
     ]
    }
   ],
   "source": [
    "print(\"Hello\"); print(\"Hi\", end=\"\\n\"); print(\"Hello\")"
   ]
  },
  {
   "cell_type": "code",
   "execution_count": 3,
   "metadata": {
    "scrolled": true
   },
   "outputs": [
    {
     "name": "stdout",
     "output_type": "stream",
     "text": [
      "Hello\n",
      "Hi\n",
      "Hello\n"
     ]
    }
   ],
   "source": [
    "print(\"Hello\", \"Hi\", \"Hello\", sep=\"\\n\")"
   ]
  },
  {
   "cell_type": "code",
   "execution_count": 7,
   "metadata": {},
   "outputs": [],
   "source": [
    "x=10; y=15; x_1=\"Помидор\"; x_2=\"Огурец\""
   ]
  },
  {
   "cell_type": "code",
   "execution_count": 8,
   "metadata": {},
   "outputs": [
    {
     "name": "stdout",
     "output_type": "stream",
     "text": [
      "Помидор.....................................................................................................10\n",
      "Огурец......................................................................................................15\n"
     ]
    }
   ],
   "source": [
    "print(\"{:.<100}{:.>10d}\" .format(x_1,x)); print(\"{:.<100}{:.>10d}\" .format(x_2,y))"
   ]
  },
  {
   "cell_type": "code",
   "execution_count": 10,
   "metadata": {
    "scrolled": true
   },
   "outputs": [
    {
     "ename": "SyntaxError",
     "evalue": "invalid syntax (<ipython-input-10-2cc09329abcd>, line 1)",
     "output_type": "error",
     "traceback": [
      "\u001b[0;36m  File \u001b[0;32m\"<ipython-input-10-2cc09329abcd>\"\u001b[0;36m, line \u001b[0;32m1\u001b[0m\n\u001b[0;31m    print(\"{:.<100}{:.>10d}\" .format(x_1,x)), \"{:.<100}{:.>10d}\" .format(x_2,y), sep=\"\\n\")\u001b[0m\n\u001b[0m                                                                                         ^\u001b[0m\n\u001b[0;31mSyntaxError\u001b[0m\u001b[0;31m:\u001b[0m invalid syntax\n"
     ]
    }
   ],
   "source": [
    "print(\"{:.<100}{:.>10d}\" .format(x_1,x)), \"{:.<100}{:.>10d}\" .format(x_2,y), sep=\"\\n\")"
   ]
  },
  {
   "cell_type": "code",
   "execution_count": 11,
   "metadata": {},
   "outputs": [],
   "source": [
    "x=10.999; y=15.999"
   ]
  },
  {
   "cell_type": "code",
   "execution_count": 13,
   "metadata": {
    "scrolled": true
   },
   "outputs": [
    {
     "name": "stdout",
     "output_type": "stream",
     "text": [
      "Помидор.................................................................................................10.999\n",
      "Огурец..................................................................................................15.999\n"
     ]
    }
   ],
   "source": [
    "print(\"{:.<100}{:.>10.3f}\" .format(x_1,x)); print(\"{:.<100}{:.>10.3f}\" .format(x_2,y))"
   ]
  },
  {
   "cell_type": "code",
   "execution_count": 14,
   "metadata": {},
   "outputs": [
    {
     "name": "stdout",
     "output_type": "stream",
     "text": [
      "Помидор..................................................................................................11.00\n",
      "Огурец...................................................................................................16.00\n"
     ]
    }
   ],
   "source": [
    "print(\"{:.<100}{:.>10.2f}\" .format(x_1,x)); print(\"{:.<100}{:.>10.2f}\" .format(x_2,y))"
   ]
  },
  {
   "cell_type": "code",
   "execution_count": 15,
   "metadata": {},
   "outputs": [
    {
     "name": "stdout",
     "output_type": "stream",
     "text": [
      "Помидор...............................................................................................10.99900\n",
      "Огурец................................................................................................15.99900\n"
     ]
    }
   ],
   "source": [
    "print(\"{:.<100}{:.>10.5f}\" .format(x_1,x)); print(\"{:.<100}{:.>10.5f}\" .format(x_2,y))"
   ]
  }
 ],
 "metadata": {
  "kernelspec": {
   "display_name": "Python 3",
   "language": "python",
   "name": "python3"
  },
  "language_info": {
   "codemirror_mode": {
    "name": "ipython",
    "version": 3
   },
   "file_extension": ".py",
   "mimetype": "text/x-python",
   "name": "python",
   "nbconvert_exporter": "python",
   "pygments_lexer": "ipython3",
   "version": "3.6.11"
  }
 },
 "nbformat": 4,
 "nbformat_minor": 4
}
